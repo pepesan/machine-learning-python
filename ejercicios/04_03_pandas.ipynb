{
 "cells": [
  {
   "cell_type": "markdown",
   "id": "672a2207-f63c-464d-a28f-2dbed81ce21c",
   "metadata": {},
   "source": [
    "Carga los datos de iris desde fichero csv a un dataframe de pandas\n",
    "Quita la columna target en el caso de que la tengas cargada y mete los resultados en la variable data\n",
    "Crea un nuevo dataframe sólo con los datos de target\n",
    "Crea un nuevo dataframe basandose en el dataframe target pero que devuelva 0 en caso de setosa, 1 para versicolor y 2 para virginica (tokenizar -> lambda)\n",
    "Crea una función que sea capaz de detokenizar un dato (0-2 -> nombre de la clase de flor)\n",
    "Crea un nuevo datarame en base a la primera columna de data (longitud del pétalo) llamado l_petal\n",
    "Crea un nuevo dataframe en base a l_petal que tenga los datos normalizados (0-1 -> lambda)\n",
    "Crea una función que sea capaz de denormalizar los datos (vaor 0-1 -> valor no normalizado, pe 5-> lambda)\n",
    "Crea un df que tenga sólo las filas que cumplan con el el l_petalo sean mayores que 2\n",
    "Crea un df que sólo tenga las filas que tenga el l_petal >2 y l_sep >1"
   ]
  },
  {
   "cell_type": "code",
   "execution_count": 1,
   "id": "682932ec-dbcf-44b3-98d8-54bc61b9bba2",
   "metadata": {},
   "outputs": [
    {
     "name": "stdout",
     "output_type": "stream",
     "text": [
      "     l_petal  w_petal  l_sepal  w_sepal          target\n",
      "0        5.1      3.5      1.4      0.2     Iris-setosa\n",
      "1        4.9      3.0      1.4      0.2     Iris-setosa\n",
      "2        4.7      3.2      1.3      0.2     Iris-setosa\n",
      "3        4.6      3.1      1.5      0.2     Iris-setosa\n",
      "4        5.0      3.6      1.4      0.2     Iris-setosa\n",
      "..       ...      ...      ...      ...             ...\n",
      "145      6.7      3.0      5.2      2.3  Iris-virginica\n",
      "146      6.3      2.5      5.0      1.9  Iris-virginica\n",
      "147      6.5      3.0      5.2      2.0  Iris-virginica\n",
      "148      6.2      3.4      5.4      2.3  Iris-virginica\n",
      "149      5.9      3.0      5.1      1.8  Iris-virginica\n",
      "\n",
      "[150 rows x 5 columns]\n"
     ]
    }
   ],
   "source": [
    "import pandas as pd\n",
    "filename='./iris.data.csv'\n",
    "columaname=['l_petal', 'w_petal','l_sepal','w_sepal','target']\n",
    "Midataframe=pd.read_csv(filename,names=columaname)\n",
    "print(Midataframe)"
   ]
  },
  {
   "cell_type": "markdown",
   "id": "ab84dc3e-dbad-4bdf-be81-73e07d8f6f9e",
   "metadata": {},
   "source": [
    "Crea un dataframe con solo los datos de Target"
   ]
  },
  {
   "cell_type": "code",
   "execution_count": 4,
   "id": "de2f397c-7b3d-43c4-b4b4-156c607ffca9",
   "metadata": {},
   "outputs": [
    {
     "name": "stdout",
     "output_type": "stream",
     "text": [
      "0         Iris-setosa\n",
      "1         Iris-setosa\n",
      "2         Iris-setosa\n",
      "3         Iris-setosa\n",
      "4         Iris-setosa\n",
      "            ...      \n",
      "145    Iris-virginica\n",
      "146    Iris-virginica\n",
      "147    Iris-virginica\n",
      "148    Iris-virginica\n",
      "149    Iris-virginica\n",
      "Name: Target, Length: 150, dtype: object\n",
      "     Largo Petalo  Ancho Petalo  Largo Sepalo  Ancho Sepalo          Target\n",
      "0             5.1           3.5           1.4           0.2     Iris-setosa\n",
      "1             4.9           3.0           1.4           0.2     Iris-setosa\n",
      "2             4.7           3.2           1.3           0.2     Iris-setosa\n",
      "3             4.6           3.1           1.5           0.2     Iris-setosa\n",
      "4             5.0           3.6           1.4           0.2     Iris-setosa\n",
      "..            ...           ...           ...           ...             ...\n",
      "145           6.7           3.0           5.2           2.3  Iris-virginica\n",
      "146           6.3           2.5           5.0           1.9  Iris-virginica\n",
      "147           6.5           3.0           5.2           2.0  Iris-virginica\n",
      "148           6.2           3.4           5.4           2.3  Iris-virginica\n",
      "149           5.9           3.0           5.1           1.8  Iris-virginica\n",
      "\n",
      "[150 rows x 5 columns]\n"
     ]
    }
   ],
   "source": [
    "\n",
    "target=Midataframe['target']\n",
    "print(target)\n",
    "print(Midataframe)"
   ]
  },
  {
   "cell_type": "code",
   "execution_count": 5,
   "id": "bc786173-b75f-4d71-8a98-aeda2cb926f1",
   "metadata": {},
   "outputs": [
    {
     "name": "stdout",
     "output_type": "stream",
     "text": [
      "0      0\n",
      "1      0\n",
      "2      0\n",
      "3      0\n",
      "4      0\n",
      "      ..\n",
      "145    1\n",
      "146    1\n",
      "147    1\n",
      "148    1\n",
      "149    1\n",
      "Name: Target, Length: 150, dtype: int64\n"
     ]
    }
   ],
   "source": [
    "def Tokeniza(Cadena):\n",
    "    if Cadena==\"Iris-setosa\":\n",
    "        return 0\n",
    "    elif Cadena==\"Iris-virginica\":\n",
    "        return 1\n",
    "    else:\n",
    "        return 2\n",
    "\n",
    "targetTokenizado=target.map(Tokeniza)\n",
    "print(targetTokenizado)\n"
   ]
  },
  {
   "cell_type": "code",
   "execution_count": 3,
   "id": "4473b79d-be5b-4c95-8b60-c6695729ea22",
   "metadata": {},
   "outputs": [
    {
     "name": "stdout",
     "output_type": "stream",
     "text": [
      "0      0.51\n",
      "1      0.49\n",
      "2      0.47\n",
      "3      0.46\n",
      "4      0.50\n",
      "       ... \n",
      "145    0.67\n",
      "146    0.63\n",
      "147    0.65\n",
      "148    0.62\n",
      "149    0.59\n",
      "Name: l_petal, Length: 150, dtype: float64\n",
      "     l_petal\n",
      "0        5.1\n",
      "1        4.9\n",
      "2        4.7\n",
      "3        4.6\n",
      "4        5.0\n",
      "..       ...\n",
      "145      6.7\n",
      "146      6.3\n",
      "147      6.5\n",
      "148      6.2\n",
      "149      5.9\n",
      "\n",
      "[150 rows x 1 columns]\n"
     ]
    }
   ],
   "source": [
    "LPetal=Midataframe['l_petal']\n",
    "\n",
    "\n",
    "def Normaliza(x):\n",
    "    return x/10\n",
    "def DeNormaliza(x):\n",
    "    return x*10\n",
    "NewData2=LPetal.map(Normaliza)\n",
    "print(NewData2)\n",
    "NewData2=pd.DataFrame(NewData2.map(DeNormaliza))\n",
    "print(NewData2)"
   ]
  },
  {
   "cell_type": "code",
   "execution_count": 5,
   "id": "e8f9f440-420c-4d5a-b2dd-d12ece98babc",
   "metadata": {},
   "outputs": [
    {
     "name": "stdout",
     "output_type": "stream",
     "text": [
      "0      5.1\n",
      "5      5.4\n",
      "10     5.4\n",
      "14     5.8\n",
      "15     5.7\n",
      "      ... \n",
      "145    6.7\n",
      "146    6.3\n",
      "147    6.5\n",
      "148    6.2\n",
      "149    5.9\n",
      "Name: l_petal, Length: 118, dtype: float64\n"
     ]
    }
   ],
   "source": [
    "\n",
    "# filtra por campo l_petal\n",
    "Select1=LPetal[LPetal>5]\n",
    "print(Select1)"
   ]
  },
  {
   "cell_type": "code",
   "execution_count": 8,
   "id": "c55292e9-3697-415c-aadf-e4336faec6a6",
   "metadata": {},
   "outputs": [
    {
     "name": "stdout",
     "output_type": "stream",
     "text": [
      "     l_petal  w_petal  l_sepal  w_sepal           target\n",
      "83       6.0      2.7      5.1      1.6  Iris-versicolor\n",
      "100      6.3      3.3      6.0      2.5   Iris-virginica\n",
      "101      5.8      2.7      5.1      1.9   Iris-virginica\n",
      "102      7.1      3.0      5.9      2.1   Iris-virginica\n",
      "103      6.3      2.9      5.6      1.8   Iris-virginica\n",
      "104      6.5      3.0      5.8      2.2   Iris-virginica\n",
      "105      7.6      3.0      6.6      2.1   Iris-virginica\n",
      "107      7.3      2.9      6.3      1.8   Iris-virginica\n",
      "108      6.7      2.5      5.8      1.8   Iris-virginica\n",
      "109      7.2      3.6      6.1      2.5   Iris-virginica\n",
      "110      6.5      3.2      5.1      2.0   Iris-virginica\n",
      "111      6.4      2.7      5.3      1.9   Iris-virginica\n",
      "112      6.8      3.0      5.5      2.1   Iris-virginica\n",
      "114      5.8      2.8      5.1      2.4   Iris-virginica\n",
      "115      6.4      3.2      5.3      2.3   Iris-virginica\n",
      "116      6.5      3.0      5.5      1.8   Iris-virginica\n",
      "117      7.7      3.8      6.7      2.2   Iris-virginica\n",
      "118      7.7      2.6      6.9      2.3   Iris-virginica\n",
      "120      6.9      3.2      5.7      2.3   Iris-virginica\n",
      "122      7.7      2.8      6.7      2.0   Iris-virginica\n",
      "124      6.7      3.3      5.7      2.1   Iris-virginica\n",
      "125      7.2      3.2      6.0      1.8   Iris-virginica\n",
      "128      6.4      2.8      5.6      2.1   Iris-virginica\n",
      "129      7.2      3.0      5.8      1.6   Iris-virginica\n",
      "130      7.4      2.8      6.1      1.9   Iris-virginica\n",
      "131      7.9      3.8      6.4      2.0   Iris-virginica\n",
      "132      6.4      2.8      5.6      2.2   Iris-virginica\n",
      "133      6.3      2.8      5.1      1.5   Iris-virginica\n",
      "134      6.1      2.6      5.6      1.4   Iris-virginica\n",
      "135      7.7      3.0      6.1      2.3   Iris-virginica\n",
      "136      6.3      3.4      5.6      2.4   Iris-virginica\n",
      "137      6.4      3.1      5.5      1.8   Iris-virginica\n",
      "139      6.9      3.1      5.4      2.1   Iris-virginica\n",
      "140      6.7      3.1      5.6      2.4   Iris-virginica\n",
      "141      6.9      3.1      5.1      2.3   Iris-virginica\n",
      "142      5.8      2.7      5.1      1.9   Iris-virginica\n",
      "143      6.8      3.2      5.9      2.3   Iris-virginica\n",
      "144      6.7      3.3      5.7      2.5   Iris-virginica\n",
      "145      6.7      3.0      5.2      2.3   Iris-virginica\n",
      "147      6.5      3.0      5.2      2.0   Iris-virginica\n",
      "148      6.2      3.4      5.4      2.3   Iris-virginica\n",
      "149      5.9      3.0      5.1      1.8   Iris-virginica\n"
     ]
    }
   ],
   "source": [
    "\n",
    "\n",
    "Select2=Midataframe[(Midataframe[\"l_petal\"]>5) & (Midataframe[\"l_sepal\"]>5)]\n",
    "print(Select2)"
   ]
  },
  {
   "cell_type": "code",
   "execution_count": null,
   "id": "1d67fe1c-91af-4867-a7ea-e21a155b0701",
   "metadata": {},
   "outputs": [],
   "source": []
  }
 ],
 "metadata": {
  "kernelspec": {
   "display_name": "Python 3 (ipykernel)",
   "language": "python",
   "name": "python3"
  },
  "language_info": {
   "codemirror_mode": {
    "name": "ipython",
    "version": 3
   },
   "file_extension": ".py",
   "mimetype": "text/x-python",
   "name": "python",
   "nbconvert_exporter": "python",
   "pygments_lexer": "ipython3",
   "version": "3.12.3"
  }
 },
 "nbformat": 4,
 "nbformat_minor": 5
}
